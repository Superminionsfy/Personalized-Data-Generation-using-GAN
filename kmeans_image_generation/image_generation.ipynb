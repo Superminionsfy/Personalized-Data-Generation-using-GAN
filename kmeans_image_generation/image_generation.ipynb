{
 "cells": [
  {
   "cell_type": "code",
   "execution_count": 108,
   "metadata": {},
   "outputs": [],
   "source": [
    "import json\n",
    "import os\n",
    "from collections import Counter\n",
    "import torch\n",
    "import torch.nn as nn\n",
    "import matplotlib.pyplot as plt\n",
    "import numpy as np\n",
    "import torchvision.utils as vutils\n",
    "from PIL import Image"
   ]
  },
  {
   "cell_type": "code",
   "execution_count": 109,
   "metadata": {},
   "outputs": [],
   "source": [
    "# The class used for reference\n",
    "reference_class = 0\n",
    "\n",
    "# The class used for target clustering\n",
    "target_class = 1\n",
    "\n",
    "# The directory to store user assignment\n",
    "assignment_save_directory = \"./kmeans_user_assignment\"\n",
    "\n",
    "# The directory to store kmeans result\n",
    "kmeans_save_directory = \"./kmeans_pickle_save\"\n",
    "\n",
    "# The number of kmeans clusters\n",
    "n_cluster = 7\n",
    "\n",
    "# Number of GPUs available. Use 0 for CPU mode.\n",
    "ngpu = 1\n",
    "\n",
    "# Target user name, which will be used for image generation\n",
    "target_username = \"f4046_46\"\n",
    "\n",
    "# Size of feature maps in generator\n",
    "ngf = 64\n",
    "\n",
    "# Number of channels in the training images. For color images this is 3\n",
    "nc = 1\n",
    "\n",
    "# Size of z latent vector (i.e. size of generator input)\n",
    "nz = 100\n",
    "\n",
    "# The number of images which will be generated\n",
    "gen_batch_size = 8\n",
    "\n",
    "# Spatial size of training images. All images will be resized to this\n",
    "# size using a transformer.\n",
    "image_size = 64"
   ]
  },
  {
   "cell_type": "code",
   "execution_count": 110,
   "metadata": {},
   "outputs": [
    {
     "name": "stdout",
     "output_type": "stream",
     "text": [
      "Counter({'0': 124, '3': 110, '1': 42, '2': 34, '5': 24, '4': 23, '6': 9})\n",
      "The target user belongs to cluster 0 by prediction\n",
      "The target user belongs to cluster 0 in the true result\n",
      "Please train a Generator of cluster 0, class 1 before running the next cell\n"
     ]
    }
   ],
   "source": [
    "# Get cluster assignment for target user\n",
    "\n",
    "# Load user assignment for reference\n",
    "with open(os.path.join(assignment_save_directory, \"assignment_{}.json\".format(reference_class)), \"r\") as f:\n",
    "    ref_user_assignment = json.load(f)\n",
    "\n",
    "# Load target user assignment\n",
    "with open(os.path.join(assignment_save_directory, \"assignment_{}.json\".format(target_class)), \"r\") as f:\n",
    "    target_user_assignment = json.load(f)\n",
    "\n",
    "# Check the assignment of the target user in reference clustering results\n",
    "for cluster_index, user_list in ref_user_assignment.items():\n",
    "    if target_username in user_list:\n",
    "        ref_cluster_index = cluster_index\n",
    "        ref_user_list = user_list\n",
    "        break\n",
    "\n",
    "# Build reverse index for target_user_assignment\n",
    "reverse_assignment_index = {}\n",
    "for cluster_index, user_list in target_user_assignment.items():\n",
    "    for username in user_list:\n",
    "        reverse_assignment_index[username] = cluster_index\n",
    "\n",
    "# Check each user in the ref_user_list and figure out which cluster they are in\n",
    "target_cluster_assignment = []\n",
    "for username in ref_user_list:\n",
    "    if username == target_username:\n",
    "        continue\n",
    "\n",
    "    cur_cluster_index = reverse_assignment_index[username]\n",
    "    target_cluster_assignment.append(cur_cluster_index)\n",
    "    \n",
    "# Count the number of each cluster assignment and \n",
    "# choose the max one as the cluster index of the target user\n",
    "counter = Counter(target_cluster_assignment)\n",
    "print(counter)\n",
    "target_cluster_index = sorted(list(counter.items()), key=lambda l: l[1], reverse=True)[0][0]\n",
    "print(\"The target user belongs to cluster {} by prediction\".format(target_cluster_index))\n",
    "\n",
    "# The true cluster index of target user\n",
    "for cluster_index, user_list in target_user_assignment.items():\n",
    "    if target_username in user_list:\n",
    "        true_cluster_index = cluster_index\n",
    "        break\n",
    "print(\"The target user belongs to cluster {} in the true result\".format(true_cluster_index))\n",
    "\n",
    "# Print a notification\n",
    "print(\"Please train a Generator of cluster {}, class {} before running \"\n",
    "      \"the next cell\".format(target_cluster_index, target_class))"
   ]
  },
  {
   "cell_type": "code",
   "execution_count": 111,
   "metadata": {},
   "outputs": [],
   "source": [
    "# Generator Code\n",
    "\n",
    "class Generator(nn.Module):\n",
    "    def __init__(self, ngpu):\n",
    "        super(Generator, self).__init__()\n",
    "        self.ngpu = ngpu\n",
    "        self.main = nn.Sequential(\n",
    "            # input is Z, going into a convolution\n",
    "            nn.ConvTranspose2d( nz, ngf * 8, 4, 1, 0, bias=False),\n",
    "            nn.BatchNorm2d(ngf * 8),\n",
    "            nn.ReLU(True),\n",
    "            # state size. (ngf*8) x 4 x 4\n",
    "            nn.ConvTranspose2d(ngf * 8, ngf * 4, 4, 2, 1, bias=False),\n",
    "            nn.BatchNorm2d(ngf * 4),\n",
    "            nn.ReLU(True),\n",
    "            # state size. (ngf*4) x 8 x 8\n",
    "            nn.ConvTranspose2d( ngf * 4, ngf * 2, 4, 2, 1, bias=False),\n",
    "            nn.BatchNorm2d(ngf * 2),\n",
    "            nn.ReLU(True),\n",
    "            # state size. (ngf*2) x 16 x 16\n",
    "            nn.ConvTranspose2d( ngf * 2, ngf, 4, 2, 1, bias=False),\n",
    "            nn.BatchNorm2d(ngf),\n",
    "            nn.ReLU(True),\n",
    "            # state size. (ngf) x 32 x 32\n",
    "            nn.ConvTranspose2d( ngf, nc, 4, 2, 1, bias=False),\n",
    "            nn.Tanh()\n",
    "            # state size. (nc) x 64 x 64\n",
    "        )\n",
    "\n",
    "    def forward(self, input):\n",
    "        return self.main(input)"
   ]
  },
  {
   "cell_type": "code",
   "execution_count": 112,
   "metadata": {},
   "outputs": [
    {
     "data": {
      "text/plain": [
       "Generator(\n",
       "  (main): Sequential(\n",
       "    (0): ConvTranspose2d(100, 512, kernel_size=(4, 4), stride=(1, 1), bias=False)\n",
       "    (1): BatchNorm2d(512, eps=1e-05, momentum=0.1, affine=True, track_running_stats=True)\n",
       "    (2): ReLU(inplace=True)\n",
       "    (3): ConvTranspose2d(512, 256, kernel_size=(4, 4), stride=(2, 2), padding=(1, 1), bias=False)\n",
       "    (4): BatchNorm2d(256, eps=1e-05, momentum=0.1, affine=True, track_running_stats=True)\n",
       "    (5): ReLU(inplace=True)\n",
       "    (6): ConvTranspose2d(256, 128, kernel_size=(4, 4), stride=(2, 2), padding=(1, 1), bias=False)\n",
       "    (7): BatchNorm2d(128, eps=1e-05, momentum=0.1, affine=True, track_running_stats=True)\n",
       "    (8): ReLU(inplace=True)\n",
       "    (9): ConvTranspose2d(128, 64, kernel_size=(4, 4), stride=(2, 2), padding=(1, 1), bias=False)\n",
       "    (10): BatchNorm2d(64, eps=1e-05, momentum=0.1, affine=True, track_running_stats=True)\n",
       "    (11): ReLU(inplace=True)\n",
       "    (12): ConvTranspose2d(64, 1, kernel_size=(4, 4), stride=(2, 2), padding=(1, 1), bias=False)\n",
       "    (13): Tanh()\n",
       "  )\n",
       ")"
      ]
     },
     "execution_count": 112,
     "metadata": {},
     "output_type": "execute_result"
    }
   ],
   "source": [
    "generator_read_dir = \"./generator_save/{}_{}.pt\".format(target_class, target_cluster_index)\n",
    "\n",
    "# Decide which device we want to run on\n",
    "device = torch.device(\"cuda:0\" if (torch.cuda.is_available() and ngpu > 0) else \"cpu\")\n",
    "\n",
    "# Create the generator\n",
    "netG = Generator(ngpu=ngpu).to(device)\n",
    "netG.load_state_dict(torch.load(generator_read_dir))\n",
    "netG.eval()"
   ]
  },
  {
   "cell_type": "code",
   "execution_count": 113,
   "metadata": {},
   "outputs": [
    {
     "data": {
      "image/png": "[encoded data removed]",
      "text/plain": [
       "<Figure size 576x72 with 1 Axes>"
      ]
     },
     "metadata": {
      "needs_background": "light"
     },
     "output_type": "display_data"
    }
   ],
   "source": [
    "# Create batch of latent vectors that we will use to visualize\n",
    "# the progression of the generator\n",
    "fixed_noise = torch.randn(gen_batch_size, nz, 1, 1, device=device)\n",
    "\n",
    "fake = netG(fixed_noise).detach().cpu()\n",
    "\n",
    "# Plot the fake images\n",
    "fig = plt.figure(figsize=(8, (gen_batch_size + 8 - 1) // 8))\n",
    "plt.axis(\"off\")\n",
    "plt.title(\"Fake Images\")\n",
    "plt.imshow(np.transpose(vutils.make_grid(fake, padding=2, normalize=True), (1,2,0)))\n",
    "plt.show()"
   ]
  },
  {
   "cell_type": "code",
   "execution_count": 114,
   "metadata": {},
   "outputs": [
    {
     "data": {
      "image/png": "[encoded data removed]",
      "text/plain": [
       "<Figure size 576x72 with 1 Axes>"
      ]
     },
     "metadata": {
      "needs_background": "light"
     },
     "output_type": "display_data"
    }
   ],
   "source": [
    "# Display the true image\n",
    "image_save_dir = \"./femnist_by_cluster_{}/{}/all\".format(target_class, target_cluster_index)\n",
    "\n",
    "image_list = []\n",
    "for file_name in os.listdir(image_save_dir):\n",
    "    if file_name.startswith(target_username):\n",
    "        image = Image.open(os.path.join(image_save_dir, file_name))\n",
    "        image.resize((image_size, image_size))\n",
    "        image_np = np.asarray(image)\n",
    "        image_list.append(image_np)\n",
    "\n",
    "true_images = np.stack(image_list)\n",
    "true_images = np.expand_dims(true_images, axis=1)\n",
    "\n",
    "# Plot the true images\n",
    "fig = plt.figure(figsize=(8, (len(image_list) + 8 - 1) // 8))\n",
    "plt.axis(\"off\")\n",
    "plt.title(\"True Images\")\n",
    "plt.imshow(np.transpose(vutils.make_grid(torch.tensor(true_images / 255), padding=2, normalize=True), (1,2,0)))\n",
    "plt.show()"
   ]
  }
 ],
 "metadata": {
  "kernelspec": {
   "display_name": "Python 3",
   "language": "python",
   "name": "python3"
  },
  "language_info": {
   "codemirror_mode": {
    "name": "ipython",
    "version": 3
   },
   "file_extension": ".py",
   "mimetype": "text/x-python",
   "name": "python",
   "nbconvert_exporter": "python",
   "pygments_lexer": "ipython3",
   "version": "3.7.4"
  }
 },
 "nbformat": 4,
 "nbformat_minor": 4
}
