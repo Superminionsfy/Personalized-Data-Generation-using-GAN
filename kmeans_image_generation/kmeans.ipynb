{
 "cells": [
  {
   "cell_type": "code",
   "execution_count": 1,
   "metadata": {},
   "outputs": [],
   "source": [
    "import os\n",
    "import json\n",
    "from PIL import Image\n",
    "import numpy as np\n",
    "from sklearn.cluster import KMeans\n",
    "from collections import Counter\n",
    "import pickle"
   ]
  },
  {
   "cell_type": "code",
   "execution_count": 2,
   "metadata": {},
   "outputs": [],
   "source": [
    "# The directory of the dataset\n",
    "read_directory = \"./leaf/data/femnist/data/all_data/\"\n",
    "\n",
    "# The user in user_block_list will be removed\n",
    "user_block_list = []\n",
    "\n",
    "# The target class to be clustered\n",
    "target_class = 4\n",
    "\n",
    "# The number of kmeans clusters\n",
    "n_clusters = 7\n",
    "\n",
    "# Kmeans clustering result will be written into this directory\n",
    "write_directory = \"./femnist_by_cluster_{}\".format(target_class)\n",
    "\n",
    "# User assignment will be saved to this directory\n",
    "assignment_save_directory = \"./kmeans_user_assignment\""
   ]
  },
  {
   "cell_type": "code",
   "execution_count": 3,
   "metadata": {},
   "outputs": [
    {
     "name": "stdout",
     "output_type": "stream",
     "text": [
      "processing file: all_data_5.json\n",
      "processing file: all_data_4.json\n",
      "processing file: all_data_34.json\n",
      "processing file: all_data_3.json\n",
      "processing file: all_data_27.json\n",
      "processing file: all_data_10.json\n",
      "processing file: all_data_16.json\n",
      "processing file: all_data_13.json\n",
      "processing file: all_data_19.json\n",
      "processing file: all_data_31.json\n",
      "processing file: all_data_21.json\n",
      "processing file: all_data_18.json\n",
      "processing file: all_data_15.json\n",
      "processing file: all_data_0.json\n",
      "processing file: all_data_1.json\n",
      "processing file: all_data_6.json\n",
      "processing file: all_data_20.json\n",
      "processing file: all_data_25.json\n",
      "processing file: all_data_7.json\n",
      "processing file: all_data_14.json\n",
      "processing file: all_data_17.json\n",
      "processing file: all_data_2.json\n",
      "processing file: all_data_24.json\n",
      "processing file: all_data_22.json\n",
      "processing file: all_data_12.json\n",
      "processing file: all_data_23.json\n",
      "processing file: all_data_8.json\n",
      "processing file: all_data_32.json\n",
      "processing file: all_data_11.json\n",
      "processing file: all_data_33.json\n",
      "processing file: all_data_29.json\n",
      "processing file: all_data_9.json\n",
      "processing file: all_data_28.json\n",
      "processing file: all_data_26.json\n",
      "processing file: all_data_30.json\n",
      "There are 38139 images to be clustered.\n"
     ]
    }
   ],
   "source": [
    "# Read raw dataset and keep only images of target class\n",
    "# All target images will be stored in target_image_list for clustering\n",
    "\n",
    "target_image_list = []\n",
    "user_list = []\n",
    "\n",
    "for json_file_name in os.listdir(read_directory):\n",
    "    with open(os.path.join(read_directory, json_file_name), \"r\") as f_read:\n",
    "        print(\"processing file: {}\".format(json_file_name))\n",
    "        data = json.load(f_read)\n",
    "        \n",
    "        for user_name in data[\"users\"]:\n",
    "            # Remove user in user_block_list\n",
    "            if user_name in user_block_list:\n",
    "                continue\n",
    "            \n",
    "            # Save all images of this user with the target class\n",
    "            user_data = data[\"user_data\"][user_name]\n",
    "            for index, image_class in enumerate(user_data[\"y\"]):\n",
    "                if image_class == target_class:\n",
    "                    image = user_data[\"x\"][index]\n",
    "                    target_image_list.append(image)\n",
    "                    user_list.append(user_name)\n",
    "\n",
    "print(\"There are {} images to be clustered.\".format(len(target_image_list)))"
   ]
  },
  {
   "cell_type": "code",
   "execution_count": 4,
   "metadata": {},
   "outputs": [
    {
     "name": "stdout",
     "output_type": "stream",
     "text": [
      "The number image in each cluster:  Counter({3: 6778, 6: 6388, 2: 5920, 1: 5328, 4: 4630, 5: 4629, 0: 4466})\n"
     ]
    }
   ],
   "source": [
    "# Perform kmeans clustering\n",
    "target_image_arr = np.array(target_image_list)\n",
    "kmeans = KMeans(n_clusters=n_clusters, random_state=0).fit(target_image_arr)\n",
    "cluster_labels = kmeans.labels_\n",
    "print(\"The number image in each cluster: \", Counter(cluster_labels))\n",
    "\n",
    "# Save kmeans clustering result\n",
    "pickle_save_directory = \"./kmeans_pickle_save\"\n",
    "with open(os.path.join(pickle_save_directory, \"{}.pickle\".format(target_class)), \"wb\") as f_write:\n",
    "    pickle.dump(kmeans, f_write)"
   ]
  },
  {
   "cell_type": "code",
   "execution_count": 5,
   "metadata": {},
   "outputs": [],
   "source": [
    "# Save images into separate directories according to their cluster\n",
    "\n",
    "# Create directory\n",
    "if not os.path.isdir(write_directory):\n",
    "    os.makedirs(write_directory)\n",
    "\n",
    "for i in range(n_clusters):\n",
    "    cur_dir = os.path.join(write_directory, str(i))\n",
    "    if not os.path.isdir(cur_dir):\n",
    "        os.makedirs(cur_dir)\n",
    "        os.makedirs(os.path.join(cur_dir, \"all\"))\n",
    "\n",
    "# Save images into separate directories according to their cluster_index\n",
    "count = 0\n",
    "for image, user_name, cluster_index in zip(target_image_list, user_list, cluster_labels):\n",
    "    image = np.array([pixel * 255 for pixel in image], dtype=np.uint8)\n",
    "    image = np.reshape(image, (28, 28))\n",
    "    image = Image.fromarray(image, 'L')\n",
    "    count += 1\n",
    "    image.save(os.path.join(write_directory, str(cluster_index), \"all\", \"{}_{}.png\".format(user_name, count)))"
   ]
  },
  {
   "cell_type": "code",
   "execution_count": 6,
   "metadata": {},
   "outputs": [],
   "source": [
    "# Get cluster assignment of each user.\n",
    "# For instance, user_i is with 100 images, \n",
    "# 55 of them are assigned to cluster 1, 40 of them are assigned to cluster 2,\n",
    "# 5 of them are assigned to cluster 3.\n",
    "# Then user_i will be assigned to cluster 1, as most of its images belongs to cluster 1\n",
    "\n",
    "# Count the images beloning to each cluster for each user\n",
    "user_cluster_cnt = {}\n",
    "for user_name, cluster_index in zip(user_list, cluster_labels):\n",
    "    if user_name not in user_cluster_cnt:\n",
    "        user_cluster_cnt[user_name] = [0 for _ in range(n_clusters)]\n",
    "        \n",
    "    user_cluster_cnt[user_name][cluster_index] += 1\n",
    "\n",
    "# Assign user to the cluster with most of its images\n",
    "user_cluster_assignment = {i: [] for i in range(n_clusters)}\n",
    "for user_name, cluster_cnt in user_cluster_cnt.items():\n",
    "    max_cnt, max_index = cluster_cnt[0], 0\n",
    "    for cluster_index, cnt in enumerate(cluster_cnt):\n",
    "        if cnt > max_cnt:\n",
    "            max_cnt, max_index = cnt, cluster_index\n",
    "            \n",
    "    user_cluster_assignment[max_index].append(user_name)\n",
    "\n",
    "# Save the result of user assignment\n",
    "with open(os.path.join(assignment_save_directory, \"assignment_{}.json\".format(target_class)), \"w\") as f:\n",
    "    json.dump(user_cluster_assignment, f)"
   ]
  },
  {
   "cell_type": "code",
   "execution_count": null,
   "metadata": {},
   "outputs": [],
   "source": []
  }
 ],
 "metadata": {
  "kernelspec": {
   "display_name": "Python 3",
   "language": "python",
   "name": "python3"
  },
  "language_info": {
   "codemirror_mode": {
    "name": "ipython",
    "version": 3
   },
   "file_extension": ".py",
   "mimetype": "text/x-python",
   "name": "python",
   "nbconvert_exporter": "python",
   "pygments_lexer": "ipython3",
   "version": "3.7.4"
  }
 },
 "nbformat": 4,
 "nbformat_minor": 4
}
